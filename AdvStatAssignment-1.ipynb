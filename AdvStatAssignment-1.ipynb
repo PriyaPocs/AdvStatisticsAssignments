{
 "cells": [
  {
   "cell_type": "markdown",
   "id": "27f03cdd-d70d-4842-a282-c4e1ac85fc0e",
   "metadata": {},
   "source": [
    "Q1. What is the Probability density function?\n",
    "\n",
    "\n",
    "Answer(Q1):\n",
    "\n",
    "Probability density function is the distribution of the continuous data.\n",
    "\n",
    "A probability density function describes a probability distribution for a random, continuous variable. Use a probability density function to find the chances that the value of a random variable will occur within a range of values that you specify. More specifically, a PDF is a function where its integral for an interval provides the probability of a value occurring in that interval. For example, what are the chances that the next IQ score you measure will fall between 120 and 140? In statistics, PDF stands for probability density function.\n",
    "\n"
   ]
  },
  {
   "cell_type": "markdown",
   "id": "7055d5fa-66ec-468d-9860-7444205cd632",
   "metadata": {},
   "source": [
    "Q2. What are the types of Probability distribution?\n",
    "\n",
    "\n",
    "Answer(Q2):\n",
    "\n",
    "The probability distribution is divided into two parts:\n",
    "\n",
    "1.Discrete Probability Distributions(PMF)\n",
    "\n",
    "   a.Binomial Distribution\n",
    "\n",
    "   b.Bernoulli's Distribution\n",
    "   \n",
    "   c.Poisson Distribution\n",
    "\n",
    "2.Continuous Probability Distributions(PDF)\n",
    "\n",
    "   a.Normal/Gaussian Distribution\n",
    "   \n",
    "   b.Continuous Uniform Distribution\n",
    "\n",
    "   c.Log-Normal Distribution\n",
    "   \n",
    "   d.Exponential Distribution\n",
    "\n"
   ]
  },
  {
   "cell_type": "markdown",
   "id": "9ac13cc7-bd9d-47fc-86ac-29bf344feb59",
   "metadata": {},
   "source": [
    "Q3. Write a Python function to calculate the probability density function of a normal distribution with given mean and standard deviation at a given point.\n",
    "\n",
    "\n",
    "Answer(Q3):"
   ]
  },
  {
   "cell_type": "code",
   "execution_count": 14,
   "id": "03d846c3-de77-4ddf-ab91-bee67d39a622",
   "metadata": {},
   "outputs": [
    {
     "name": "stdout",
     "output_type": "stream",
     "text": [
      "given_mean =  0\n",
      "given_std =  1\n",
      "probability_pdf =  0.12951759566589174\n"
     ]
    }
   ],
   "source": [
    "# In a normal distribution mean = 0, std = 1.\n",
    "given_mean = 0\n",
    "given_std = 1\n",
    "point = 1.5\n",
    "\n",
    "from scipy.stats import norm\n",
    "import numpy as np\n",
    "\n",
    "print(\"given_mean = \",given_mean)\n",
    "print(\"given_std = \",given_std)\n",
    "\n",
    "\n",
    "probability_pdf = norm.pdf(point, loc=given_mean, scale=given_std)\n",
    "print(\"probability_pdf = \",probability_pdf)\n"
   ]
  },
  {
   "cell_type": "markdown",
   "id": "baa3076c-26e1-40c6-92c7-7f26b1ce8b01",
   "metadata": {},
   "source": [
    "Q4. What are the properties of Binomial distribution? Give two examples of events where binomial distribution can be applied.\n",
    "\n",
    "\n",
    "Answer(Q4):\n",
    "\n",
    "\n",
    "1.Binomial distribution is applicable when the trials are independent and each trial has just two outcomes success and failure. (It's represented by p and q where p is probability of success, q = 1-p ,probability of failure.)\n",
    "\n",
    "It is applied in coin tossing experiments, sampling inspection plan, genetic experiments and so on.\n",
    "\n",
    "2.Binomial distribution is known as bi-parametric distribution as it is characterized by two parameters n and p.\n",
    "\n",
    "\n",
    "This means that if the values of n and p are known, then the distribution is known completely.\n",
    "\n",
    "3.The mean of the binomial distribution is given by μ = np\n",
    "\n",
    "4.The variance of the binomial distribution is given by σ2 = npq\n",
    "\n",
    "5.The std of the binomial distribution is given by σ2 = sqrt(npq)\n",
    "\n",
    "\n",
    "Examples:\n",
    "\n",
    "1.In tossing a coin, the outcome could be either success (HEADS) or failure (TAILS).\n",
    "\n",
    "2.In finding defective items, the outcome could be either success (item is defective) or failure (item is non-defective).\n",
    "\n"
   ]
  },
  {
   "cell_type": "markdown",
   "id": "60cd964c-25d7-432f-b553-457200a09535",
   "metadata": {},
   "source": [
    "Q5. Generate a random sample of size 1000 from a binomial distribution with probability of success 0.4 and plot a histogram of the results using matplotlib.\n",
    "\n",
    "\n",
    "Answer(Q5):\n",
    "\n"
   ]
  },
  {
   "cell_type": "code",
   "execution_count": 23,
   "id": "475892e1-c9c3-409b-9270-3542c0199f6e",
   "metadata": {},
   "outputs": [
    {
     "name": "stdout",
     "output_type": "stream",
     "text": [
      "random_sample  [0 0 0 0 1 0 0 0 0 0 0 1 1 1 1 0 1 1 0 0 0 1 0 0 1 0 0 0 0 0 0 0 0 0 0 0 1\n",
      " 1 0 1 1 0 1 1 0 1 0 0 1 0 0 0 1 1 0 0 0 1 0 1 0 1 1 1 1 0 0 0 1 1 1 0 0 1\n",
      " 0 0 0 0 1 0 0 0 1 0 0 0 1 0 1 1 1 1 0 0 1 1 1 0 1 1 0 1 0 0 0 1 0 0 0 1 0\n",
      " 0 0 0 0 0 1 1 0 1 1 0 1 1 1 1 0 1 1 1 0 0 1 0 1 0 1 1 0 0 0 1 0 1 0 0 0 0\n",
      " 0 0 1 0 1 0 1 0 0 0 0 0 0 1 1 0 0 1 0 0 0 0 0 0 1 1 0 0 0 1 0 0 0 0 0 0 1\n",
      " 1 0 0 1 0 1 1 0 0 0 1 1 0 1 0 0 0 0 1 0 0 0 1 0 0 0 0 1 1 0 0 0 0 0 0 0 0\n",
      " 1 0 0 1 0 1 0 1 0 0 1 0 0 0 1 1 1 1 0 0 0 0 1 0 0 1 0 0 1 1 0 1 0 1 0 0 0\n",
      " 1 0 1 1 0 0 1 1 1 0 0 0 1 1 0 0 0 0 0 1 0 0 1 1 0 0 1 0 1 0 0 1 0 0 1 1 0\n",
      " 0 1 1 1 0 0 1 0 1 1 0 0 0 0 1 1 0 1 1 1 0 1 0 1 0 1 0 0 0 0 1 0 0 1 0 1 0\n",
      " 0 1 0 0 1 1 1 1 0 0 1 0 1 0 1 0 0 0 0 1 0 0 0 0 1 1 1 0 0 0 0 1 0 1 0 0 1\n",
      " 0 1 0 1 0 0 1 0 1 0 0 0 0 0 0 0 0 1 0 1 1 1 1 1 0 0 0 1 0 1 0 0 0 1 1 0 1\n",
      " 1 0 0 1 0 0 0 0 0 0 1 0 1 1 0 1 0 1 0 0 0 0 1 0 1 0 1 0 1 0 0 1 1 0 0 1 0\n",
      " 0 1 0 0 1 1 1 0 0 1 0 0 0 0 1 0 0 0 0 1 1 1 1 0 0 1 0 0 0 0 0 0 0 0 0 1 0\n",
      " 0 0 1 1 0 0 0 0 1 0 0 1 0 1 0 0 1 0 1 0 1 1 1 0 0 0 0 0 0 0 0 1 0 0 1 1 1\n",
      " 1 1 1 1 0 0 0 0 1 1 0 1 0 1 0 0 0 1 0 1 0 0 1 0 0 0 0 0 1 0 0 1 0 1 0 0 1\n",
      " 0 1 0 0 1 0 0 1 0 1 1 1 0 0 0 0 0 0 0 1 1 1 0 1 0 1 0 0 0 0 0 0 0 0 0 0 0\n",
      " 0 0 1 0 1 1 0 0 0 0 0 1 0 1 1 1 0 1 0 1 1 0 0 1 1 0 0 0 0 0 0 1 0 0 1 0 1\n",
      " 1 1 0 0 0 1 1 1 1 1 0 1 0 0 0 0 1 1 1 0 1 1 0 1 0 0 1 0 1 0 1 0 1 1 1 0 0\n",
      " 0 1 0 0 1 1 1 1 1 0 0 0 0 0 1 1 0 1 0 1 0 1 0 1 1 0 1 0 0 0 1 1 0 1 0 1 1\n",
      " 0 0 0 0 0 0 0 0 1 1 1 1 1 0 0 1 0 0 0 0 0 1 1 1 0 0 0 0 0 0 0 0 1 1 1 1 0\n",
      " 1 0 0 0 0 1 1 1 1 0 0 0 0 0 1 0 1 1 0 0 1 0 1 0 0 0 0 1 1 0 1 0 1 1 0 0 0\n",
      " 1 1 0 0 1 0 1 0 0 0 1 1 0 1 0 0 0 0 0 1 0 0 1 0 1 1 1 0 0 1 0 0 0 1 0 1 0\n",
      " 1 0 1 0 0 1 0 1 0 0 1 0 1 0 0 0 1 1 1 0 0 0 0 0 0 1 0 1 0 0 1 1 0 1 1 1 1\n",
      " 0 0 1 0 0 0 0 0 0 0 0 1 0 0 0 1 0 0 1 1 0 0 0 1 1 1 0 0 1 0 0 1 0 0 1 1 1\n",
      " 0 0 1 0 0 1 0 1 1 0 1 1 1 1 1 1 0 0 0 0 0 1 1 0 0 0 0 1 1 0 1 0 1 1 0 1 0\n",
      " 1 0 0 0 0 1 0 0 0 1 1 1 1 1 1 1 1 0 0 1 1 1 0 0 0 0 0 0 0 0 1 0 0 1 1 0 1\n",
      " 1 0 1 1 0 1 0 1 1 1 0 0 0 0 0 0 0 0 0 0 0 0 1 1 1 0 1 1 1 1 0 0 0 0 0 0 1\n",
      " 1]\n"
     ]
    },
    {
     "data": {
      "image/png": "[encoded data removed]",
      "text/plain": [
       "<Figure size 640x480 with 1 Axes>"
      ]
     },
     "metadata": {},
     "output_type": "display_data"
    }
   ],
   "source": [
    "import numpy as np\n",
    "import matplotlib.pyplot as plt\n",
    "\n",
    "# Parameters\n",
    "sample_size = 1000\n",
    "probability_of_success = 0.4\n",
    "\n",
    "# Generate the random sample from binomial distribution\n",
    "random_sample = np.random.binomial(1, probability_of_success, size=sample_size)\n",
    "print(\"random_sample \",random_sample)\n",
    "\n",
    "# Plot the histogram\n",
    "plt.hist(random_sample, bins=[0, 1, 2], align='left', rwidth=0.8)\n",
    "plt.xticks([0, 1], ['Failure', 'Success'])\n",
    "plt.xlabel('Outcome')\n",
    "plt.ylabel('Frequency')\n",
    "plt.title('Histogram of Binomial Distribution')\n",
    "plt.show()\n"
   ]
  },
  {
   "cell_type": "markdown",
   "id": "0d3c3d3d-145a-41cb-ad87-5ec7aa909fca",
   "metadata": {},
   "source": [
    "Q6. Write a Python function to calculate the cumulative distribution function of a Poisson distribution with given mean at a given point.\n",
    "\n",
    "Answer(Q6):\n",
    "\n",
    "The CDF function for the Poisson distribution returns the probability that an observation from a Poisson distribution, with mean m, is less than or equal to n. "
   ]
  },
  {
   "cell_type": "code",
   "execution_count": 16,
   "id": "b44b4919-7dda-416c-809f-49bfb590f613",
   "metadata": {},
   "outputs": [
    {
     "name": "stdout",
     "output_type": "stream",
     "text": [
      "CDF at x = 3 is: 0.2650259152973617\n"
     ]
    }
   ],
   "source": [
    "import math\n",
    "\n",
    "def poisson_cdf(x, mean):\n",
    "    \"\"\"\n",
    "    Calculate the cumulative distribution function (CDF) of a Poisson distribution\n",
    "    at a given point x with the specified mean.\n",
    "\n",
    "    Parameters:\n",
    "    x (int): The point at which to evaluate the CDF (can be an integer only).\n",
    "    mean (float): The mean of the Poisson distribution.\n",
    "\n",
    "    Returns:\n",
    "    float: The value of the CDF at the given point x.\n",
    "    \"\"\"\n",
    "    cdf_value = 0.0\n",
    "    for k in range(x + 1):\n",
    "        cdf_value += (math.exp(-mean) * mean ** k) / math.factorial(k)\n",
    "    return cdf_value\n",
    "\n",
    "\n",
    "\n",
    "mean = 5\n",
    "x = 3\n",
    "\n",
    "cdf_value = poisson_cdf(x, mean)\n",
    "print(\"CDF at x =\", x, \"is:\", cdf_value)\n"
   ]
  },
  {
   "cell_type": "markdown",
   "id": "cfb17b59-fe5e-4fb2-8faf-b7a3fb59d611",
   "metadata": {},
   "source": [
    "Q7. How Binomial distribution different from Poisson distribution?\n",
    "\n",
    "Answer(Q7):\n",
    "\n",
    "1.Binomial distribution is one in which the probability of repeated number of trials are studied.Where as Poisson Distribution gives the count of independent events occur randomly with a given period of time.\n",
    "\n",
    "2.Binomial distribution is Biparametric in nature.Poisson Distribution Uniparametric in nature\n",
    "\n",
    "3.In Binomial distribution,Number of trials are\tFixed.Poisson Distribution, Number of trials are Infinite\n",
    "\n",
    "4.In Binomial distribution,Only two possible outcomes, i.e. success or failure.Poisson Distribution, Unlimited number of possible outcomes.\n"
   ]
  },
  {
   "cell_type": "markdown",
   "id": "b43cc4ee-b447-46f5-8064-f3fed6dea5b0",
   "metadata": {},
   "source": [
    "Q8. Generate a random sample of size 1000 from a Poisson distribution with mean 5 and calculate the sample mean and variance.\n",
    "\n",
    "\n",
    "Answer(Q8):\n",
    "\n"
   ]
  },
  {
   "cell_type": "code",
   "execution_count": 12,
   "id": "a8910029-5206-40a7-9ae1-0728582cf831",
   "metadata": {},
   "outputs": [
    {
     "name": "stdout",
     "output_type": "stream",
     "text": [
      "Sample mean: 4.924\n",
      "Sample variance: 4.704224\n"
     ]
    }
   ],
   "source": [
    "import numpy as np\n",
    "\n",
    "# Parameters\n",
    "sample_size = 1000\n",
    "mean_poisson = 5\n",
    "\n",
    "# Generate the random sample\n",
    "random_sample = np.random.poisson(mean_poisson, size=sample_size)\n",
    "\n",
    "# Calculate the sample mean and variance\n",
    "sample_mean = np.mean(random_sample)\n",
    "sample_variance = np.var(random_sample)\n",
    "\n",
    "print(\"Sample mean:\", sample_mean)\n",
    "print(\"Sample variance:\", sample_variance)\n"
   ]
  },
  {
   "cell_type": "markdown",
   "id": "acf25c00-f416-43b5-b383-245e85d9c2ae",
   "metadata": {},
   "source": [
    "Q9. How mean and variance are related in Binomial distribution and Poisson distribution?\n",
    "\n",
    "\n",
    "Answer(9):\n",
    "\n",
    "\n",
    "In both the Binomial distribution and Poisson distribution, the mean and variance are related, but their relationships differ due to the nature of these distributions.\n",
    "\n",
    "Binomial Distribution:\n",
    "In a Binomial distribution, which models the number of successes in a fixed number of independent Bernoulli trials, the mean (μ) and variance (σ^2) are related as follows:\n",
    "\n",
    "Mean (μ) = n * p\n",
    "Variance (σ^2) = n * p * (1 - p)\n",
    "\n",
    "Where:\n",
    "- n is the number of trials or experiments.\n",
    "- p is the probability of success in each individual trial.\n",
    "\n",
    "The mean represents the expected number of successes, and the variance indicates the spread or dispersion of the distribution. Notice that the variance depends on both the number of trials (n) and the probability of success (p). As the number of trials or the probability of success changes, the variance changes as well.\n",
    "\n",
    "Poisson Distribution:\n",
    "In a Poisson distribution, which models the number of events that occur in a fixed interval of time or space, the mean (λ) and variance (σ^2) are related in a different way:\n",
    "\n",
    "Mean (λ) = σ^2\n",
    "\n",
    "Where:\n",
    "- λ (lambda) is both the mean and the variance of the Poisson distribution.\n",
    "\n",
    "In a Poisson distribution, the mean and the variance are equal, regardless of the specific value of λ. This means that the spread or dispersion of the Poisson distribution is solely determined by its mean value. As λ increases, the distribution becomes more spread out, and as λ decreases, the distribution becomes more concentrated.\n",
    "\n",
    "In summary, in the Binomial distribution, the variance depends on both the number of trials and the probability of success, while in the Poisson distribution, the variance is solely determined by the mean value, which is also equal to the variance."
   ]
  },
  {
   "cell_type": "markdown",
   "id": "d6fe53a6-f900-495d-9b42-7ffde41af9af",
   "metadata": {},
   "source": [
    "Q10. In normal distribution with respect to mean position, where does the least frequent data appear?\n",
    "\n",
    "Answer(Q10):\n",
    "\n",
    "In a normal distribution, also known as the Gaussian distribution, the data is symmetrically distributed around the mean, which is also the median and mode of the distribution. Since the normal distribution is symmetric, the least frequent data points appear at the tails of the distribution, farthest away from the mean.That's the data points that are the least likely to occur are located at the extreme ends of the distribution, in the tails(both ends of the bell curve)."
   ]
  }
 ],
 "metadata": {
  "kernelspec": {
   "display_name": "Python 3 (ipykernel)",
   "language": "python",
   "name": "python3"
  },
  "language_info": {
   "codemirror_mode": {
    "name": "ipython",
    "version": 3
   },
   "file_extension": ".py",
   "mimetype": "text/x-python",
   "name": "python",
   "nbconvert_exporter": "python",
   "pygments_lexer": "ipython3",
   "version": "3.10.8"
  }
 },
 "nbformat": 4,
 "nbformat_minor": 5
}
